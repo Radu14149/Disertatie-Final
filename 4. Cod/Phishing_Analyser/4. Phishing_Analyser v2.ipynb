{
 "cells": [
  {
   "cell_type": "code",
   "execution_count": 1,
   "id": "8c634886",
   "metadata": {
    "_cell_guid": "b1076dfc-b9ad-4769-8c92-a6c4dae69d19",
    "_uuid": "8f2839f25d086af736a60e9eeb907d3b93b6e0e5",
    "execution": {
     "iopub.execute_input": "2025-03-25T20:25:08.463803Z",
     "iopub.status.busy": "2025-03-25T20:25:08.463427Z",
     "iopub.status.idle": "2025-03-25T20:25:50.800509Z",
     "shell.execute_reply": "2025-03-25T20:25:50.799346Z"
    },
    "papermill": {
     "duration": 42.344833,
     "end_time": "2025-03-25T20:25:50.802511",
     "exception": false,
     "start_time": "2025-03-25T20:25:08.457678",
     "status": "completed"
    },
    "tags": []
   },
   "outputs": [],
   "source": [
    "import numpy as np\n",
    "import pandas as pd\n",
    "import re\n",
    "import nltk\n",
    "from nltk.corpus import stopwords\n",
    "from nltk.tokenize import word_tokenize\n",
    "from nltk.stem import PorterStemmer\n",
    "from sklearn.feature_extraction.text import TfidfVectorizer\n",
    "from sklearn.model_selection import train_test_split\n",
    "from sklearn.naive_bayes import MultinomialNB\n",
    "from sklearn.linear_model import LogisticRegression\n",
    "from sklearn.metrics import accuracy_score, precision_score, recall_score, f1_score\n",
    "from gensim.models import Word2Vec\n",
    "import tensorflow as tf\n",
    "from tensorflow.keras.models import Sequential\n",
    "from tensorflow.keras.layers import Embedding, LSTM, Dense"
   ]
  },
  {
   "cell_type": "markdown",
   "id": "53a3bffd",
   "metadata": {
    "papermill": {
     "duration": 0.003485,
     "end_time": "2025-03-25T20:25:50.810344",
     "exception": false,
     "start_time": "2025-03-25T20:25:50.806859",
     "status": "completed"
    },
    "tags": []
   },
   "source": [
    "# PHASE 1: Data Collection"
   ]
  },
  {
   "cell_type": "code",
   "execution_count": 2,
   "id": "5d5158a6",
   "metadata": {
    "execution": {
     "iopub.execute_input": "2025-03-25T20:25:50.819639Z",
     "iopub.status.busy": "2025-03-25T20:25:50.818847Z",
     "iopub.status.idle": "2025-03-25T20:25:52.115076Z",
     "shell.execute_reply": "2025-03-25T20:25:52.113734Z"
    },
    "papermill": {
     "duration": 1.303133,
     "end_time": "2025-03-25T20:25:52.117279",
     "exception": false,
     "start_time": "2025-03-25T20:25:50.814146",
     "status": "completed"
    },
    "tags": []
   },
   "outputs": [
    {
     "name": "stdout",
     "output_type": "stream",
     "text": [
      "Loading dataset...\n",
      "Dataset Loaded. Sample:\n",
      "   unnamed: 0                                         email text  \\\n",
      "0           0  re : 6 . 1100 , disc : uniformitarianism , re ...   \n",
      "1           1  the other side of * galicismos * * galicismo *...   \n",
      "2           2  re : equistar deal tickets are you still avail...   \n",
      "3           3  \\nHello I am your hot lil horny toy.\\n    I am...   \n",
      "4           4  software at incredibly low prices ( 86 % lower...   \n",
      "\n",
      "       email type  \n",
      "0      Safe Email  \n",
      "1      Safe Email  \n",
      "2      Safe Email  \n",
      "3  Phishing Email  \n",
      "4  Phishing Email  \n"
     ]
    }
   ],
   "source": [
    "print(\"Loading dataset...\")\n",
    "file_path = \"/kaggle/input/phishingemails/Phishing_Email.csv\"  # Updated path\n",
    "try:\n",
    "    df = pd.read_csv(file_path)\n",
    "    df.columns = df.columns.str.strip().str.lower()\n",
    "    df['email text'] = df['email text'].fillna('')\n",
    "    print(\"Dataset Loaded. Sample:\")\n",
    "    print(df.head())\n",
    "except FileNotFoundError:\n",
    "    print(f\"Error: File not found at {file_path}\")\n",
    "    exit()\n"
   ]
  },
  {
   "cell_type": "markdown",
   "id": "38b7c263",
   "metadata": {
    "papermill": {
     "duration": 0.003746,
     "end_time": "2025-03-25T20:25:52.125621",
     "exception": false,
     "start_time": "2025-03-25T20:25:52.121875",
     "status": "completed"
    },
    "tags": []
   },
   "source": [
    "# PHASE 2: Text Preprocessing"
   ]
  },
  {
   "cell_type": "code",
   "execution_count": 3,
   "id": "75a66e8a",
   "metadata": {
    "execution": {
     "iopub.execute_input": "2025-03-25T20:25:52.134923Z",
     "iopub.status.busy": "2025-03-25T20:25:52.134278Z",
     "iopub.status.idle": "2025-03-25T20:27:59.889589Z",
     "shell.execute_reply": "2025-03-25T20:27:59.888049Z"
    },
    "papermill": {
     "duration": 127.764436,
     "end_time": "2025-03-25T20:27:59.893893",
     "exception": false,
     "start_time": "2025-03-25T20:25:52.129457",
     "status": "completed"
    },
    "tags": []
   },
   "outputs": [
    {
     "name": "stdout",
     "output_type": "stream",
     "text": [
      "Preprocessing data...\n",
      "[nltk_data] Downloading package stopwords to /usr/share/nltk_data...\n",
      "[nltk_data]   Unzipping corpora/stopwords.zip.\n",
      "[nltk_data] Downloading package punkt to /usr/share/nltk_data...\n",
      "[nltk_data]   Package punkt is already up-to-date!\n",
      "Preprocessing completed.\n"
     ]
    }
   ],
   "source": [
    "def preprocess_text(text):\n",
    "    text = text.lower()\n",
    "    text = re.sub(r'[^a-zA-Z\\s]', '', text)\n",
    "    tokens = word_tokenize(text)\n",
    "    stop_words = set(stopwords.words('english'))\n",
    "    tokens = [word for word in tokens if word not in stop_words]\n",
    "    stemmer = PorterStemmer()\n",
    "    tokens = [stemmer.stem(word) for word in tokens]\n",
    "    return ' '.join(tokens)\n",
    "\n",
    "print(\"Preprocessing data...\")\n",
    "nltk.download('stopwords')\n",
    "nltk.download('punkt')\n",
    "df['email text'] = df['email text'].apply(preprocess_text)\n",
    "print(\"Preprocessing completed.\")"
   ]
  },
  {
   "cell_type": "markdown",
   "id": "8c2a913f",
   "metadata": {
    "papermill": {
     "duration": 0.003883,
     "end_time": "2025-03-25T20:27:59.902087",
     "exception": false,
     "start_time": "2025-03-25T20:27:59.898204",
     "status": "completed"
    },
    "tags": []
   },
   "source": [
    "# PHASE 3: Feature Extraction"
   ]
  },
  {
   "cell_type": "code",
   "execution_count": 4,
   "id": "cea79e46",
   "metadata": {
    "execution": {
     "iopub.execute_input": "2025-03-25T20:27:59.911745Z",
     "iopub.status.busy": "2025-03-25T20:27:59.911309Z",
     "iopub.status.idle": "2025-03-25T20:28:04.151201Z",
     "shell.execute_reply": "2025-03-25T20:28:04.149922Z"
    },
    "papermill": {
     "duration": 4.246882,
     "end_time": "2025-03-25T20:28:04.153000",
     "exception": false,
     "start_time": "2025-03-25T20:27:59.906118",
     "status": "completed"
    },
    "tags": []
   },
   "outputs": [
    {
     "name": "stdout",
     "output_type": "stream",
     "text": [
      "Extracting features using TF-IDF...\n",
      "Feature extraction completed.\n"
     ]
    }
   ],
   "source": [
    "print(\"Extracting features using TF-IDF...\")\n",
    "tfidf_vectorizer = TfidfVectorizer(max_features=5000)\n",
    "X_tfidf = tfidf_vectorizer.fit_transform(df['email text'])\n",
    "y = df['email type'].astype('category').cat.codes\n",
    "print(\"Feature extraction completed.\")"
   ]
  },
  {
   "cell_type": "markdown",
   "id": "480aad18",
   "metadata": {
    "papermill": {
     "duration": 0.003838,
     "end_time": "2025-03-25T20:28:04.161074",
     "exception": false,
     "start_time": "2025-03-25T20:28:04.157236",
     "status": "completed"
    },
    "tags": []
   },
   "source": [
    "# PHASE 4: Model Training - Naïve Bayes & Logistic Regression"
   ]
  },
  {
   "cell_type": "code",
   "execution_count": 5,
   "id": "6f950e8a",
   "metadata": {
    "execution": {
     "iopub.execute_input": "2025-03-25T20:28:04.171875Z",
     "iopub.status.busy": "2025-03-25T20:28:04.171522Z",
     "iopub.status.idle": "2025-03-25T20:28:04.654272Z",
     "shell.execute_reply": "2025-03-25T20:28:04.652921Z"
    },
    "papermill": {
     "duration": 0.490319,
     "end_time": "2025-03-25T20:28:04.656733",
     "exception": false,
     "start_time": "2025-03-25T20:28:04.166414",
     "status": "completed"
    },
    "tags": []
   },
   "outputs": [
    {
     "name": "stdout",
     "output_type": "stream",
     "text": [
      "Training Naïve Bayes model...\n",
      "Training Logistic Regression model...\n"
     ]
    }
   ],
   "source": [
    "X_train, X_test, y_train, y_test = train_test_split(X_tfidf, y, test_size=0.2, random_state=42)\n",
    "print(\"Training Naïve Bayes model...\")\n",
    "nb_model = MultinomialNB()\n",
    "nb_model.fit(X_train, y_train)\n",
    "y_pred_nb = nb_model.predict(X_test)\n",
    "print(\"Training Logistic Regression model...\")\n",
    "lr_model = LogisticRegression()\n",
    "lr_model.fit(X_train, y_train)\n",
    "y_pred_lr = lr_model.predict(X_test)"
   ]
  },
  {
   "cell_type": "markdown",
   "id": "6c925383",
   "metadata": {
    "papermill": {
     "duration": 0.004035,
     "end_time": "2025-03-25T20:28:04.665460",
     "exception": false,
     "start_time": "2025-03-25T20:28:04.661425",
     "status": "completed"
    },
    "tags": []
   },
   "source": [
    "# PHASE 5: Evaluation"
   ]
  },
  {
   "cell_type": "code",
   "execution_count": 6,
   "id": "48ebfeb7",
   "metadata": {
    "execution": {
     "iopub.execute_input": "2025-03-25T20:28:04.675077Z",
     "iopub.status.busy": "2025-03-25T20:28:04.674724Z",
     "iopub.status.idle": "2025-03-25T20:28:04.710183Z",
     "shell.execute_reply": "2025-03-25T20:28:04.708910Z"
    },
    "papermill": {
     "duration": 0.042397,
     "end_time": "2025-03-25T20:28:04.712093",
     "exception": false,
     "start_time": "2025-03-25T20:28:04.669696",
     "status": "completed"
    },
    "tags": []
   },
   "outputs": [
    {
     "name": "stdout",
     "output_type": "stream",
     "text": [
      "\n",
      "Naïve Bayes Performance:\n",
      "Accuracy: 0.9533512064343164\n",
      "Precision: 0.9533402545788052\n",
      "Recall: 0.9533512064343164\n",
      "F1 Score: 0.9533454439217011\n",
      "\n",
      "Logistic Regression Performance:\n",
      "Accuracy: 0.9654155495978552\n",
      "Precision: 0.9654944404391096\n",
      "Recall: 0.9654155495978552\n",
      "F1 Score: 0.9654427597728343\n"
     ]
    }
   ],
   "source": [
    "def evaluate_model(y_true, y_pred, model_name):\n",
    "    print(f\"\\n{model_name} Performance:\")\n",
    "    print(\"Accuracy:\", accuracy_score(y_true, y_pred))\n",
    "    print(\"Precision:\", precision_score(y_true, y_pred, average='weighted'))\n",
    "    print(\"Recall:\", recall_score(y_true, y_pred, average='weighted'))\n",
    "    print(\"F1 Score:\", f1_score(y_true, y_pred, average='weighted'))\n",
    "\n",
    "evaluate_model(y_test, y_pred_nb, \"Naïve Bayes\")\n",
    "evaluate_model(y_test, y_pred_lr, \"Logistic Regression\")"
   ]
  },
  {
   "cell_type": "markdown",
   "id": "3e583d5c",
   "metadata": {
    "papermill": {
     "duration": 0.004183,
     "end_time": "2025-03-25T20:28:04.720700",
     "exception": false,
     "start_time": "2025-03-25T20:28:04.716517",
     "status": "completed"
    },
    "tags": []
   },
   "source": [
    "# PHASE 6: Word2Vec Embedding for LSTM"
   ]
  },
  {
   "cell_type": "code",
   "execution_count": 7,
   "id": "b4610672",
   "metadata": {
    "execution": {
     "iopub.execute_input": "2025-03-25T20:28:04.730448Z",
     "iopub.status.busy": "2025-03-25T20:28:04.730005Z",
     "iopub.status.idle": "2025-03-25T20:28:26.862408Z",
     "shell.execute_reply": "2025-03-25T20:28:26.860972Z"
    },
    "papermill": {
     "duration": 22.139435,
     "end_time": "2025-03-25T20:28:26.864322",
     "exception": false,
     "start_time": "2025-03-25T20:28:04.724887",
     "status": "completed"
    },
    "tags": []
   },
   "outputs": [
    {
     "name": "stdout",
     "output_type": "stream",
     "text": [
      "Training Word2Vec model...\n",
      "Word2Vec training completed.\n"
     ]
    }
   ],
   "source": [
    "print(\"Training Word2Vec model...\")\n",
    "sentences = [text.split() for text in df['email text']]\n",
    "w2v_model = Word2Vec(sentences, vector_size=100, window=5, min_count=1, workers=4)\n",
    "embedding_matrix = np.zeros((len(w2v_model.wv) + 1, 100))\n",
    "for i, word in enumerate(w2v_model.wv.index_to_key):\n",
    "    embedding_matrix[i] = w2v_model.wv[word]\n",
    "print(\"Word2Vec training completed.\")\n"
   ]
  },
  {
   "cell_type": "markdown",
   "id": "6e20354e",
   "metadata": {
    "papermill": {
     "duration": 0.004145,
     "end_time": "2025-03-25T20:28:26.873638",
     "exception": false,
     "start_time": "2025-03-25T20:28:26.869493",
     "status": "completed"
    },
    "tags": []
   },
   "source": [
    "# PHASE 7: LSTM Model Training"
   ]
  },
  {
   "cell_type": "code",
   "execution_count": 8,
   "id": "c8bac433",
   "metadata": {
    "execution": {
     "iopub.execute_input": "2025-03-25T20:28:26.884078Z",
     "iopub.status.busy": "2025-03-25T20:28:26.883695Z",
     "iopub.status.idle": "2025-03-25T20:33:27.663250Z",
     "shell.execute_reply": "2025-03-25T20:33:27.662340Z"
    },
    "papermill": {
     "duration": 300.786961,
     "end_time": "2025-03-25T20:33:27.665302",
     "exception": false,
     "start_time": "2025-03-25T20:28:26.878341",
     "status": "completed"
    },
    "tags": []
   },
   "outputs": [
    {
     "name": "stdout",
     "output_type": "stream",
     "text": [
      "Preparing LSTM model...\n"
     ]
    },
    {
     "name": "stderr",
     "output_type": "stream",
     "text": [
      "/usr/local/lib/python3.10/dist-packages/keras/src/layers/core/embedding.py:90: UserWarning: Argument `input_length` is deprecated. Just remove it.\n",
      "  warnings.warn(\n"
     ]
    },
    {
     "name": "stdout",
     "output_type": "stream",
     "text": [
      "Training LSTM model...\n",
      "Epoch 1/5\n",
      "\u001b[1m467/467\u001b[0m \u001b[32m━━━━━━━━━━━━━━━━━━━━\u001b[0m\u001b[37m\u001b[0m \u001b[1m62s\u001b[0m 125ms/step - accuracy: 0.6096 - loss: 0.6735 - val_accuracy: 0.6094 - val_loss: 0.6716\n",
      "Epoch 2/5\n",
      "\u001b[1m467/467\u001b[0m \u001b[32m━━━━━━━━━━━━━━━━━━━━\u001b[0m\u001b[37m\u001b[0m \u001b[1m59s\u001b[0m 127ms/step - accuracy: 0.6129 - loss: 0.6697 - val_accuracy: 0.6094 - val_loss: 0.6703\n",
      "Epoch 3/5\n",
      "\u001b[1m467/467\u001b[0m \u001b[32m━━━━━━━━━━━━━━━━━━━━\u001b[0m\u001b[37m\u001b[0m \u001b[1m59s\u001b[0m 125ms/step - accuracy: 0.6092 - loss: 0.6698 - val_accuracy: 0.6094 - val_loss: 0.6698\n",
      "Epoch 4/5\n",
      "\u001b[1m467/467\u001b[0m \u001b[32m━━━━━━━━━━━━━━━━━━━━\u001b[0m\u001b[37m\u001b[0m \u001b[1m60s\u001b[0m 127ms/step - accuracy: 0.6104 - loss: 0.6691 - val_accuracy: 0.6094 - val_loss: 0.6692\n",
      "Epoch 5/5\n",
      "\u001b[1m467/467\u001b[0m \u001b[32m━━━━━━━━━━━━━━━━━━━━\u001b[0m\u001b[37m\u001b[0m \u001b[1m60s\u001b[0m 128ms/step - accuracy: 0.6084 - loss: 0.6699 - val_accuracy: 0.6094 - val_loss: 0.6693\n"
     ]
    },
    {
     "data": {
      "text/plain": [
       "<keras.src.callbacks.history.History at 0x7c61974715d0>"
      ]
     },
     "execution_count": 8,
     "metadata": {},
     "output_type": "execute_result"
    }
   ],
   "source": [
    "print(\"Preparing LSTM model...\")\n",
    "max_len = 100\n",
    "vocab_size = len(w2v_model.wv) + 1\n",
    "X_train_pad = tf.keras.preprocessing.sequence.pad_sequences(X_train.toarray(), maxlen=max_len)\n",
    "X_test_pad = tf.keras.preprocessing.sequence.pad_sequences(X_test.toarray(), maxlen=max_len)\n",
    "\n",
    "model = Sequential([\n",
    "    Embedding(vocab_size, 100, weights=[embedding_matrix], input_length=max_len, trainable=False),\n",
    "    LSTM(100, return_sequences=True),\n",
    "    LSTM(50),\n",
    "    Dense(1, activation='sigmoid')\n",
    "])\n",
    "\n",
    "model.compile(loss='binary_crossentropy', optimizer='adam', metrics=['accuracy'])\n",
    "print(\"Training LSTM model...\")\n",
    "model.fit(X_train_pad, y_train, epochs=5, batch_size=32, validation_data=(X_test_pad, y_test))\n"
   ]
  },
  {
   "cell_type": "markdown",
   "id": "ff7e6b30",
   "metadata": {
    "papermill": {
     "duration": 0.134949,
     "end_time": "2025-03-25T20:33:27.939805",
     "exception": false,
     "start_time": "2025-03-25T20:33:27.804856",
     "status": "completed"
    },
    "tags": []
   },
   "source": [
    "# PHASE 8: Evaluation of LSTM"
   ]
  },
  {
   "cell_type": "code",
   "execution_count": 9,
   "id": "ac58d66e",
   "metadata": {
    "execution": {
     "iopub.execute_input": "2025-03-25T20:33:28.212349Z",
     "iopub.status.busy": "2025-03-25T20:33:28.211955Z",
     "iopub.status.idle": "2025-03-25T20:33:33.864022Z",
     "shell.execute_reply": "2025-03-25T20:33:33.862819Z"
    },
    "papermill": {
     "duration": 5.788991,
     "end_time": "2025-03-25T20:33:33.865907",
     "exception": false,
     "start_time": "2025-03-25T20:33:28.076916",
     "status": "completed"
    },
    "tags": []
   },
   "outputs": [
    {
     "name": "stdout",
     "output_type": "stream",
     "text": [
      "\u001b[1m117/117\u001b[0m \u001b[32m━━━━━━━━━━━━━━━━━━━━\u001b[0m\u001b[37m\u001b[0m \u001b[1m6s\u001b[0m 45ms/step\n",
      "\n",
      "LSTM Performance:\n",
      "Accuracy: 0.6093833780160858\n",
      "Precision: 0.37134810140229574\n",
      "Recall: 0.6093833780160858\n",
      "F1 Score: 0.4614787333768326\n",
      "Project Completed.\n"
     ]
    },
    {
     "name": "stderr",
     "output_type": "stream",
     "text": [
      "/usr/local/lib/python3.10/dist-packages/sklearn/metrics/_classification.py:1344: UndefinedMetricWarning: Precision is ill-defined and being set to 0.0 in labels with no predicted samples. Use `zero_division` parameter to control this behavior.\n",
      "  _warn_prf(average, modifier, msg_start, len(result))\n"
     ]
    }
   ],
   "source": [
    "y_pred_lstm = (model.predict(X_test_pad) > 0.5).astype(\"int32\")\n",
    "evaluate_model(y_test, y_pred_lstm, \"LSTM\")\n",
    "print(\"Project Completed.\")"
   ]
  }
 ],
 "metadata": {
  "kaggle": {
   "accelerator": "none",
   "dataSources": [
    {
     "datasetId": 3487818,
     "sourceId": 6090437,
     "sourceType": "datasetVersion"
    }
   ],
   "dockerImageVersionId": 30918,
   "isGpuEnabled": false,
   "isInternetEnabled": true,
   "language": "python",
   "sourceType": "notebook"
  },
  "kernelspec": {
   "display_name": "Python 3",
   "language": "python",
   "name": "python3"
  },
  "language_info": {
   "codemirror_mode": {
    "name": "ipython",
    "version": 3
   },
   "file_extension": ".py",
   "mimetype": "text/x-python",
   "name": "python",
   "nbconvert_exporter": "python",
   "pygments_lexer": "ipython3",
   "version": "3.10.12"
  },
  "papermill": {
   "default_parameters": {},
   "duration": 511.995879,
   "end_time": "2025-03-25T20:33:37.466721",
   "environment_variables": {},
   "exception": null,
   "input_path": "__notebook__.ipynb",
   "output_path": "__notebook__.ipynb",
   "parameters": {},
   "start_time": "2025-03-25T20:25:05.470842",
   "version": "2.6.0"
  }
 },
 "nbformat": 4,
 "nbformat_minor": 5
}
